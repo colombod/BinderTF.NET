{
 "cells": [
  {
   "cell_type": "code",
   "execution_count": null,
   "metadata": {},
   "outputs": [],
   "source": [
    "#r \"nuget: TensorFlow.NET, 0.14.0\"\n",
    "#r \"nuget: PlotNET, 0.1.7\"\n",
    "using static Tensorflow.Binding;"
   ]
  },
  {
   "cell_type": "code",
   "execution_count": 0,
   "metadata": {},
   "outputs": [],
   "source": [
    "var str = \"Hello, TensorFlow.NET!\";\n",
    "var hello = tf.constant(str);\n",
    "\n",
    "// Start tf session\n",
    "using(var sess = tf.Session())\n",
    "{\n",
    "    // Run the op\n",
    "    var result = sess.run(hello);\n",
    "    var output = UTF8Encoding.UTF8.GetString((byte[])result);\n",
    "    print(output);\n",
    "}"
   ]
  },
  {
   "cell_type": "code",
   "execution_count": null,
   "metadata": {},
   "outputs": [],
   "source": []
  }
 ],
 "metadata": {
  "kernelspec": {
   "display_name": "C# .netcore",
   "language": "csharp",
   "name": "csharpcore"
  },
  "language_info": {
   "file_extension": ".cs",
   "mimetype": "text/x-csharp",
   "name": ".netstandard",
   "pygments_lexer": "CSharp",
   "version": "4.0.30319"
  }
 },
 "nbformat": 4,
 "nbformat_minor": 2
}